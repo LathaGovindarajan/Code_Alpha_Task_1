{
 "cells": [
  {
   "cell_type": "markdown",
   "id": "25d56925",
   "metadata": {},
   "source": [
    "Task 1-Password Generator"
   ]
  },
  {
   "cell_type": "code",
   "execution_count": 1,
   "id": "73b13135",
   "metadata": {},
   "outputs": [],
   "source": [
    "import random\n",
    "import string"
   ]
  },
  {
   "cell_type": "code",
   "execution_count": 2,
   "id": "4adf1245",
   "metadata": {},
   "outputs": [],
   "source": [
    "def generate_password(length=12):\n",
    "    # Define character sets for the password\n",
    "    lowercase_letters = string.ascii_lowercase\n",
    "    uppercase_letters = string.ascii_uppercase\n",
    "    digits = string.digits\n",
    "    special_characters = '!@#$%^&*()_+-=[]{}|;:,.<>?'\n",
    "\n",
    "    # Combine all character sets\n",
    "    all_characters = lowercase_letters + uppercase_letters + digits + special_characters\n",
    "\n",
    "    # Check if the requested password length is valid\n",
    "    if length < 10:\n",
    "        print(\"Password length must be at least 10 characters.\")\n",
    "        return None\n",
    "\n",
    "    # Generate the password\n",
    "    password = random.choice(lowercase_letters)\n",
    "    password += random.choice(uppercase_letters)\n",
    "    password += random.choice(digits)\n",
    "    password += random.choice(special_characters)\n",
    "\n",
    "    # Fill the remaining password length with random characters\n",
    "    for _ in range(length - 4):\n",
    "        password += random.choice(all_characters)\n",
    "\n",
    "    # Shuffle the characters to make the password more random\n",
    "    password_list = list(password)\n",
    "    random.shuffle(password_list)\n",
    "    password = ''.join(password_list)\n",
    "\n",
    "    return password"
   ]
  },
  {
   "cell_type": "code",
   "execution_count": 3,
   "id": "f1a4a8b8",
   "metadata": {},
   "outputs": [
    {
     "name": "stdout",
     "output_type": "stream",
     "text": [
      "Welcome to the  Password Generator!\n",
      "Enter the desired password length (minimum 10 characters): 11\n",
      "Generated Password: $M8h(0lZy2V\n",
      "Thank you for using the Strong Password Generator!\n"
     ]
    }
   ],
   "source": [
    "if __name__ == \"__main__\":\n",
    "    print(\"Welcome to the  Password Generator!\")\n",
    "    \n",
    "    while True:\n",
    "        try:\n",
    "            password_length = int(input(\"Enter the desired password length (minimum 10 characters): \"))\n",
    "            if password_length >= 4:\n",
    "                password = generate_password(password_length)\n",
    "                print(\"Generated Password:\", password)\n",
    "                break\n",
    "            else:\n",
    "                print(\"Password length must be at least 10 characters.\")\n",
    "        except ValueError:\n",
    "            print(\"Please enter a valid number for password length.\")\n",
    "    \n",
    "    print(\"Thank you for using the Strong Password Generator!\")\n",
    "\n"
   ]
  },
  {
   "cell_type": "code",
   "execution_count": null,
   "id": "ca661870",
   "metadata": {},
   "outputs": [],
   "source": []
  }
 ],
 "metadata": {
  "kernelspec": {
   "display_name": "Python 3 (ipykernel)",
   "language": "python",
   "name": "python3"
  },
  "language_info": {
   "codemirror_mode": {
    "name": "ipython",
    "version": 3
   },
   "file_extension": ".py",
   "mimetype": "text/x-python",
   "name": "python",
   "nbconvert_exporter": "python",
   "pygments_lexer": "ipython3",
   "version": "3.9.13"
  }
 },
 "nbformat": 4,
 "nbformat_minor": 5
}
